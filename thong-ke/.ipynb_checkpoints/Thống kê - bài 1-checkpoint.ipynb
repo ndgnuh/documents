{
 "cells": [
  {
   "cell_type": "markdown",
   "metadata": {},
   "source": [
    "# Phân phối rời rạc\n",
    "- $p(x)$\n",
    "- $f(x)$"
   ]
  },
  {
   "cell_type": "markdown",
   "metadata": {},
   "source": [
    "## Phân phối đều\n",
    "\\begin{align}\n",
    "\\text{Ký hiệu: } X &\\sim U_(a,b)\\\\\n",
    "EX &= \\mu= \\frac 1 n \\sum x^2\\\\\n",
    "\\sigma &= \\\\\n",
    "\\text{Hàm đặc trưng: } C(t) &= E[e^{itx}]\\\\\n",
    "\\text{Hàm sinh mô men: } SM(t) &= E[e^{tx}]\n",
    "\\end{align}\n"
   ]
  },
  {
   "cell_type": "markdown",
   "metadata": {},
   "source": [
    "## Phân phối Bernouli\n",
    "\\begin{align}\n",
    "\\text{Ký hiệu: } X &\\sim B_(1,p)\\\\\n",
    "EX &= \\mu = p\\\\\n",
    "\\sigma &= p(1-p)\\\\\n",
    "\\text{Hàm đặc trưng: } C(t) &= \\\\\n",
    "\\text{Hàm sinh mô men: } SM(t) &= \n",
    "\\end{align}\n"
   ]
  },
  {
   "cell_type": "markdown",
   "metadata": {},
   "source": [
    "## Phân phối nhị thức\n",
    "\\begin{align}\n",
    "\\text{Ký hiệu: } X &\\sim B_(n,p)\\\\\n",
    "EX &= \\mu = np\\\\\n",
    "\\sigma &= np(1-p)\\\\\n",
    "\\text{Hàm đặc trưng: } C(t) &= \\\\\n",
    "\\text{Hàm sinh mô men: } SM(t) &= (1-p-e^t)^n\n",
    "\\end{align}\n"
   ]
  },
  {
   "cell_type": "markdown",
   "metadata": {},
   "source": [
    "## Phân phối nhị thức âm\n",
    "\\begin{align}\n",
    "\\text{Ký hiệu: } X &\\sim NB_(r,p)\\\\\n",
    "p(x) &= \\frac{(x-1)!}{(r-1)!(x-r)!} p^r (1-p)^{x-r}\\quad x=r,\\ldots,n-1\\\\\n",
    "EX &= \\\\\n",
    "\\sigma &= \\\\\n",
    "\\text{Hàm đặc trưng: } C(t) &= \\\\\n",
    "\\text{Hàm sinh mô men: } SM(t) &= e^{r-t}(1-(1-p)e^t)^{-r} \\quad 0 \\le t < -\\ln(1-p)\n",
    "\\end{align}\n"
   ]
  },
  {
   "cell_type": "markdown",
   "metadata": {},
   "source": [
    "## Phân phối Poisson\n",
    "\\begin{align}\n",
    "\\text{Ký hiệu: } X &\\sim P(\\lambda)\\\\\n",
    "p(x) &= \\\\\n",
    "\\mu &= \\sigma^2 = \\lambda\\\\\n",
    "\\text{Hàm sinh mô men: } SM(t) &= \\exp(\\lambda e^t - \\lambda)\n",
    "\\end{align}\n"
   ]
  },
  {
   "cell_type": "markdown",
   "metadata": {},
   "source": [
    "## Phân phối siêu hình học\n",
    "\\begin{align}\n",
    "\\text{Ký hiệu: } X &\\sim HG_(m,k,n)\\\\\n",
    "p(x) &= \\frac{C_k^x C_{m-k}^{n-x}}{C_m^n} \\quad\n",
    "\\max(0, n-m+k) \\le x \\le min(k,n)\\\\ \n",
    "\\mu &= \\frac{nk} m\\\\\n",
    "\\sigma &= \\\\\n",
    "\\text{Hàm đặc trưng: } C(t) &= \\\\\n",
    "\\text{Hàm sinh mô men: } SM(t) &=\n",
    "\\end{align}\n"
   ]
  },
  {
   "cell_type": "markdown",
   "metadata": {},
   "source": [
    "# Phân phối liên tục"
   ]
  },
  {
   "cell_type": "markdown",
   "metadata": {},
   "source": [
    "## Phân phối đều liên tục $X \\sim U_{(a,b)}$\n",
    "\\begin{align}\n",
    "f(x) &= \\frac{1}{b-a} \\mathbb{1}_{(a,b)}(x)\\\\\n",
    "\\mu &= \\frac{a+b} 2 \\\\\n",
    "\\sigma^2 &= \\frac{(b-a)^2} 12\\\\\n",
    "SM(t) &= \\begin{cases}\n",
    "\\frac{e^{bt} - e^{at}} {(b-a)t} & t\\ne 0\\\\\n",
    "1 & t=0\n",
    "\\end{cases}\n",
    "\\end{align}"
   ]
  }
 ],
 "metadata": {
  "kernelspec": {
   "display_name": "Julia 1.2.0",
   "language": "julia",
   "name": "julia-1.2"
  },
  "language_info": {
   "file_extension": ".jl",
   "mimetype": "application/julia",
   "name": "julia",
   "version": "1.2.0"
  }
 },
 "nbformat": 4,
 "nbformat_minor": 2
}
