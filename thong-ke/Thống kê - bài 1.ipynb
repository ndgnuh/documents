{
 "cells": [
  {
   "cell_type": "markdown",
   "metadata": {},
   "source": [
    "# Phân phối rời rạc\n",
    "- $p(x)$\n",
    "- $f(x)$"
   ]
  },
  {
   "cell_type": "markdown",
   "metadata": {},
   "source": [
    "## Phân phối đều\n",
    "\\begin{align}\n",
    "\\text{Ký hiệu: } X &\\sim U_(a,b)\\\\\n",
    "EX &= \\mu= \\frac 1 n \\sum x^2\\\\\n",
    "\\sigma &= \\\\\n",
    "\\text{Hàm đặc trưng: } C(t) &= E[e^{itx}]\\\\\n",
    "\\text{Hàm sinh mô men: } SM(t) &= E[e^{tx}]\n",
    "\\end{align}\n"
   ]
  },
  {
   "cell_type": "markdown",
   "metadata": {},
   "source": [
    "## Phân phối Bernouli\n",
    "\\begin{align}\n",
    "\\text{Ký hiệu: } X &\\sim B_(1,p)\\\\\n",
    "EX &= \\mu = p\\\\\n",
    "\\sigma &= p(1-p)\\\\\n",
    "\\text{Hàm đặc trưng: } C(t) &= \\\\\n",
    "\\text{Hàm sinh mô men: } SM(t) &= \n",
    "\\end{align}\n"
   ]
  },
  {
   "cell_type": "markdown",
   "metadata": {},
   "source": [
    "## Phân phối nhị thức\n",
    "\\begin{align}\n",
    "\\text{Ký hiệu: } X &\\sim B_(n,p)\\\\\n",
    "EX &= \\mu = np\\\\\n",
    "\\sigma &= np(1-p)\\\\\n",
    "\\text{Hàm đặc trưng: } C(t) &= \\\\\n",
    "\\text{Hàm sinh mô men: } SM(t) &= (1-p-e^t)^n\n",
    "\\end{align}\n"
   ]
  },
  {
   "cell_type": "markdown",
   "metadata": {},
   "source": [
    "## Phân phối nhị thức âm\n",
    "\\begin{align}\n",
    "\\text{Ký hiệu: } X &\\sim NB_(r,p)\\\\\n",
    "p(x) &= \\frac{(x-1)!}{(r-1)!(x-r)!} p^r (1-p)^{x-r}\\quad x=r,\\ldots,n-1\\\\\n",
    "EX &= \\\\\n",
    "\\sigma &= \\\\\n",
    "\\text{Hàm đặc trưng: } C(t) &= \\\\\n",
    "\\text{Hàm sinh mô men: } SM(t) &= e^{r-t}(1-(1-p)e^t)^{-r} \\quad 0 \\le t < -\\ln(1-p)\n",
    "\\end{align}\n"
   ]
  },
  {
   "cell_type": "markdown",
   "metadata": {},
   "source": [
    "## Phân phối Poisson\n",
    "\\begin{align}\n",
    "\\text{Ký hiệu: } X &\\sim P(\\lambda)\\\\\n",
    "p(x) &= \\\\\n",
    "\\mu &= \\sigma^2 = \\lambda\\\\\n",
    "\\text{Hàm sinh mô men: } SM(t) &= \\exp(\\lambda e^t - \\lambda)\n",
    "\\end{align}\n"
   ]
  },
  {
   "cell_type": "markdown",
   "metadata": {},
   "source": [
    "## Phân phối siêu hình học\n",
    "\\begin{align}\n",
    "\\text{Ký hiệu: } X &\\sim HG_(m,k,n)\\\\\n",
    "p(x) &= \\frac{C_k^x C_{m-k}^{n-x}}{C_m^n} \\quad\n",
    "\\max(0, n-m+k) \\le x \\le min(k,n)\\\\ \n",
    "\\mu &= \\frac{nk} m\\\\\n",
    "\\sigma &= \\\\\n",
    "\\text{Hàm đặc trưng: } C(t) &= \\\\\n",
    "\\text{Hàm sinh mô men: } SM(t) &=\n",
    "\\end{align}\n"
   ]
  },
  {
   "cell_type": "markdown",
   "metadata": {},
   "source": [
    "# Phân phối liên tục"
   ]
  },
  {
   "cell_type": "markdown",
   "metadata": {},
   "source": [
    "## Phân phối đều liên tục $X \\sim U_{(a,b)}$\n",
    "\\begin{align}\n",
    "f(x) &= \\frac{1}{b-a} \\mathbb{1}_{(a,b)}(x)\\\\\n",
    "\\mu &= \\frac{a+b} 2 \\\\\n",
    "\\sigma^2 &= \\frac{(b-a)^2} 12\\\\\n",
    "SM(t) &= \\begin{cases}\n",
    "\\frac{e^{bt} - e^{at}} {(b-a)t} & t\\ne 0\\\\\n",
    "1 & t=0\n",
    "\\end{cases}\n",
    "\\end{align}"
   ]
  },
  {
   "cell_type": "markdown",
   "metadata": {},
   "source": [
    "## Phân phối gamma $X \\sim \\Gamma(a,b)$\n",
    "\\begin{align}\n",
    "f(x) &= \\frac 1 {b^a\\Gamma(a)} x^{a-1}e^{-x/b}\\\\\n",
    "\\mu &= ab\\\\\n",
    "\\sigma^2 &= ab^2\\\\\n",
    "SM(t) &= (1-bt)^{-a} \\quad t < \\frac 1 b\n",
    "\\end{align}"
   ]
  },
  {
   "cell_type": "markdown",
   "metadata": {},
   "source": [
    "## Phân phối chi bình phương $X \\sim \\chi^2(n)$\n",
    "Với $X_i \\sim N(0,1)$ độc lập thì $\\sum_{i=1}^n X_i \\sim \\chi^2(n)$.\n",
    "\\begin{align}\n",
    "f(x) &= \\frac{x^{n/2-1} - e^{-x/2}}{2^{n/2} \\Gamma(n/2)} \\quad x>0,n>0\\\\\n",
    "\\mu &= n \\\\\n",
    "\\sigma^2 &= 2n\\\\\n",
    "SM(t) &= (1-2t)^{n/2} \\quad t < 1/2\n",
    "\\end{align}"
   ]
  },
  {
   "cell_type": "markdown",
   "metadata": {},
   "source": [
    "## Phân phối beta $X \\sim \\beta(a,b)$\n",
    "\\begin{align}\n",
    "f(x) &= \\frac{1}{\\beta(a,b)} x^{a-1}(1-x)^{b-1}\\quad{} x \\in (0, \\infty)\\\\\n",
    "\\mu &= \\frac{a}{a + b} \\\\\n",
    "\\sigma^2 &= \\frac{ab}{(a+b+1)(a+b)^2}\\\\\n",
    "SM(t) &= \\sum_{n=1}^\\infty \\frac{\\beta(n+a,b)t^n}{\\beta(a,b)n!}\n",
    "\\end{align}"
   ]
  },
  {
   "cell_type": "markdown",
   "metadata": {},
   "source": [
    "## Phân phối chuẩn $X \\sim N(\\mu, \\sigma^2)$\n",
    "\\begin{align}\n",
    "f(x) &= \\frac{1}{\\sigma\\sqrt{2\\pi}} \\exp\\left(\\frac{-1}{2}\\left(\\frac{x-\\mu}{\\sigma}\\right)^2\\right)\\\\\n",
    "SM(t) &= \\exp\\left(\\mu{}t + \\frac{\\sigma^2 t^2}{2}\\right)\n",
    "\\end{align}"
   ]
  },
  {
   "cell_type": "markdown",
   "metadata": {},
   "source": [
    "## Phân phối chuẩn $d$ chiều $X \\sim N_d(\\mathbb{\\mu},\\Sigma)$\n",
    "\n",
    "\\begin{align}\n",
    "f(x) &= (2\\pi)^{-d/2} \\frac{1}{\\left\\lvert\\Sigma\\right\\rvert}\\exp\\left(-\\frac{(x-\\mu)^T\\Sigma^{-1}(x-\\mu)}{2}\\right)\\\\\n",
    "SM(t) &= \\exp\\left(\\mu^Tt+\\frac{1}{2}t^T\\Sigma{}t\\right)\n",
    "\\end{align}\n",
    "\n",
    "Cho $Z = C_{m\\times d} X \\implies Z \\sim N_m(C\\mu, C\\Sigma{}C^T)$\n",
    "\n",
    "Cho $Z = CX + B \\implies Z \\sim N_m(C\\mu + B, C\\Sigma{} C^T)$\n",
    "\n",
    "Cho $X = \\left(X_p^{(1)}, X^{(2)}_q\\right)$. Khi đó:\n",
    "\\begin{align}\n",
    "\\mu &= \\left(\\begin{array}{c}\n",
    "    \\mu_p^{(1)}\\\\\n",
    "    \\mu_p^{(2)}\n",
    "\\end{array}\\right)&\n",
    "\\Sigma &=\\left(\\begin{array}{c|c}\n",
    "    \\Sigma_{p\\times p}^{(11)} & \\Sigma_{p\\times q}^{(12)}\\\\\\hline\n",
    "    \\Sigma_{q\\times p}^{(21)} & \\Sigma_{q\\times q}^{(22)}\\\\\n",
    "\\end{array}\\right)\n",
    "\\end{align}\n",
    "và\n",
    "\\begin{align}\n",
    "E[X_1 \\vert X_2 = x] &= \\mu_1 + \\Sigma_{12} \\Sigma_{22}^{-1}(x - \\mu_2)\\\\\n",
    "COV(X_1 \\vert X_2=2) &= \\Sigma_{11} - \\Sigma_{12}\\Sigma_{22}^{-1}\\Sigma_{21}\\\\\n",
    "(X_1\\vert{}X_2=x) &\\sim{} N(\\cdot,\\cdot)\n",
    "\\end{align}"
   ]
  },
  {
   "cell_type": "markdown",
   "metadata": {},
   "source": [
    "# Phân phối dạng mũ, lớp hàm p${}^2$ dạng mũ\n",
    "Hàm mật độ có dạng:\n",
    "$$ f(x,\\theta) = \\begin{cases}\n",
    "\\exp\\left(\\sum_{i=1}^k C_i(\\theta)g(x) + d(\\theta) + z(x)\\right) & x\\in A \\subset \\mathbb{R}^d\\\\\n",
    "0 & otherwise\n",
    "\\end{cases}$$\n",
    "với $x \\in \\mathbb{R}^d,\\ \\theta \\in \\mathbb{R}^m$ (không gian tham số)\n",
    "\n",
    "**Bài tập:** Chứng tỏ các phân phối: chuẩn, Bernoulli, Gamma là phân phối dạng mũ"
   ]
  },
  {
   "cell_type": "markdown",
   "metadata": {},
   "source": [
    "# Bài tập"
   ]
  },
  {
   "cell_type": "markdown",
   "metadata": {},
   "source": [
    "##  Bài 1:\n",
    "Cho $F(x,y)$ của $X, Y$:\n",
    "$$F(x,y) = 1- e^{-x/10} - e^{-y/2} + e^{(-x+5y)/10}\\quad x,y > 0$$\n",
    "\n",
    "1. Tìm hàm mật độ đồng thời $f(x,y)$\n",
    "2. Tìm $f_1(x)$\n",
    "3. Tìm phân phối biên của $x$ (hàm $F(x)$)"
   ]
  },
  {
   "cell_type": "code",
   "execution_count": 5,
   "metadata": {},
   "outputs": [
    {
     "name": "stderr",
     "output_type": "stream",
     "text": [
      "┌ Info: Precompiling SymEngine [123dc426-2d89-5057-bbad-38513e3affd8]\n",
      "└ @ Base loading.jl:1242\n",
      "ERROR: LoadError: LoadError: SymEngine is not properly configured. Run Pkg.build(\"SymEngine\")\n",
      "before importing the SymEngine module.\n",
      "Stacktrace:\n",
      " [1] error(::String) at ./error.jl:33\n",
      " [2] top-level scope at /home/hung/.julia/packages/SymEngine/zSUGO/deps/deps.jl:5\n",
      " [3] include at ./boot.jl:328 [inlined]\n",
      " [4] include_relative(::Module, ::String) at ./loading.jl:1094\n",
      " [5] include at ./Base.jl:31 [inlined]\n",
      " [6] include(::String) at /home/hung/.julia/packages/SymEngine/zSUGO/src/SymEngine.jl:3\n",
      " [7] top-level scope at /home/hung/.julia/packages/SymEngine/zSUGO/src/SymEngine.jl:27\n",
      " [8] include at ./boot.jl:328 [inlined]\n",
      " [9] include_relative(::Module, ::String) at ./loading.jl:1094\n",
      " [10] include(::Module, ::String) at ./Base.jl:31\n",
      " [11] top-level scope at none:2\n",
      " [12] eval at ./boot.jl:330 [inlined]\n",
      " [13] eval(::Expr) at ./client.jl:432\n",
      " [14] top-level scope at ./none:3\n",
      "in expression starting at /home/hung/.julia/packages/SymEngine/zSUGO/deps/deps.jl:2\n",
      "in expression starting at /home/hung/.julia/packages/SymEngine/zSUGO/src/SymEngine.jl:27\n"
     ]
    },
    {
     "ename": "ErrorException",
     "evalue": "Failed to precompile SymEngine [123dc426-2d89-5057-bbad-38513e3affd8] to /home/hung/.julia/compiled/v1.2/SymEngine/uZhcI.ji.",
     "output_type": "error",
     "traceback": [
      "Failed to precompile SymEngine [123dc426-2d89-5057-bbad-38513e3affd8] to /home/hung/.julia/compiled/v1.2/SymEngine/uZhcI.ji.",
      "",
      "Stacktrace:",
      " [1] error(::String) at ./error.jl:33",
      " [2] compilecache(::Base.PkgId, ::String) at ./loading.jl:1253",
      " [3] _require(::Base.PkgId) at ./loading.jl:1013",
      " [4] require(::Base.PkgId) at ./loading.jl:911",
      " [5] require(::Module, ::Symbol) at ./loading.jl:906",
      " [6] top-level scope at In[5]:1"
     ]
    }
   ],
   "source": [
    "using SymEngine"
   ]
  },
  {
   "cell_type": "markdown",
   "metadata": {},
   "source": [
    "## Bài 2\n",
    "Cho 2 biến ngẫu nhiên $X_1, X_2$. $SM_X(t) = \\exp({\\mu^Tt+5t^T\\Phi{}t})$ với:\n",
    "\\begin{align}\n",
    "t &= [t_1, t_2]^T\\\\\n",
    "\\mu &= [0.07, 0.11]^T\\\\\n",
    "\\Phi &= 10^{-3}\\left[\\begin{array}{cc}\n",
    "    0.225 & -0.3\\\\\n",
    "    -0.3 & 0.625\n",
    "\\end{array}\\right]\n",
    "\\end{align}\n",
    "\n",
    "1. Tìm $EX_1$, $EX_2$\n",
    "2. Tìm $COV(X_1,X_2)$\n",
    "3. Tìm ma trận tương quan của $X_1X_2$, biết $X_1$, $X_2$ có phụ thuộc tuyến tính $X_1 = a_1 + a_2 X_2$"
   ]
  }
 ],
 "metadata": {
  "kernelspec": {
   "display_name": "Julia 1.2.0",
   "language": "julia",
   "name": "julia-1.2"
  },
  "language_info": {
   "file_extension": ".jl",
   "mimetype": "application/julia",
   "name": "julia",
   "version": "1.2.0"
  }
 },
 "nbformat": 4,
 "nbformat_minor": 2
}
