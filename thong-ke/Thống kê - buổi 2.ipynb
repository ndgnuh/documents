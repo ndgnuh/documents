{
 "cells": [
  {
   "cell_type": "markdown",
   "metadata": {},
   "source": [
    "# Tiết 1: Các khái niệm về thống kê"
   ]
  },
  {
   "cell_type": "markdown",
   "metadata": {},
   "source": [
    "# Tiết 2: Mẫu thống kê"
   ]
  },
  {
   "cell_type": "markdown",
   "metadata": {},
   "source": [
    "## Mẫu thống kê"
   ]
  },
  {
   "cell_type": "markdown",
   "metadata": {},
   "source": [
    "### Tập nền (population set)\n",
    "(stub)"
   ]
  },
  {
   "cell_type": "markdown",
   "metadata": {},
   "source": [
    "### Tập mẫu\n",
    "Là một tập con được trích chọn từ tập nền sao cho thông tin được trích từ mẫu mang tính đại diện cao cho tập nền\n",
    "\n",
    "Vấn đề chọn mẫu là một vấn đề rất quan trọng. Chọn mẫu sai có thể dẫn đến k chính xác.\n",
    "\n",
    "Phân biệt:\n",
    "- chọn mẫu có hoàn lại\n",
    "- chọn mẫu không hoàn lại\n",
    "\n",
    "How to chọn mẫu abc xyz thì đọc trong sách"
   ]
  },
  {
   "cell_type": "markdown",
   "metadata": {},
   "source": [
    "## Mẫu ngẫu nhiên\n",
    "**ví dụ:** Gọi $X$ là độ dài của hạt lúa. Lấy mẫu $n$ hạt: $\\{x_1, x_2, \\ldots x_n\\} \\to $ mẫu thống kê.\n",
    "\n",
    "**Khái niệm**: Giả sử tồn tại dãy $X_1, X_2,\\ldots X_n$ _độc lập cùng ppsx_ $\\to$ có thể chứng minh những tính chất tốt đẹp của nó trong xác suất. Mẫu ngẫu nhiên là một dãy các biến nn độc lập cùng ppsx. Tập $x_1, x_2, \\ldots x_n$ gọi là thể hiện của $X$, tập $X_1, \\ldots X_n$ gọi là tập cảm sinh."
   ]
  },
  {
   "cell_type": "markdown",
   "metadata": {},
   "source": [
    "## Thống kê\n",
    "Ánh xạ từ mẫu $\\{x_1, \\ldots x_n\\} \\to \\mathbb{R}$  gọi là một thống kê: $g(x_1, x_2, \\ldots, x_n)$"
   ]
  },
  {
   "cell_type": "markdown",
   "metadata": {},
   "source": [
    "## Bài tập\n",
    "### Bài 1\n",
    "Cho $\\{X_1, X_2, \\ldots X_N\\} \\sim U{(0, \\theta)}$, thống kê $g(\\cdot) = \\max\\{X_1,\\ldots,X_n\\}$. Tính kì vọng và phương sai của $g$.\n",
    "### Bài 2\n",
    "Cho dãy  $\\{X_1, X_2, \\ldots X_N\\} \\sim N{(\\mu, \\sigma^2)}$. Cho dãy $\\bar{X}= \\frac 1 n \\{X_1 + \\ldots X_N\\}$. Tìm $E\\bar{X}$, $V\\bar{X}$"
   ]
  }
 ],
 "metadata": {
  "kernelspec": {
   "display_name": "Julia 1.2.0",
   "language": "julia",
   "name": "julia-1.2"
  },
  "language_info": {
   "file_extension": ".jl",
   "mimetype": "application/julia",
   "name": "julia",
   "version": "1.2.0"
  }
 },
 "nbformat": 4,
 "nbformat_minor": 2
}
